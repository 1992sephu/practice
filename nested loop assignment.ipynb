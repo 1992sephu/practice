{
 "cells": [
  {
   "cell_type": "code",
   "execution_count": null,
   "id": "57d2a51e",
   "metadata": {},
   "outputs": [],
   "source": []
  },
  {
   "cell_type": "markdown",
   "id": "5cc5eeee",
   "metadata": {},
   "source": [
    "# 1. Create the below pattern using nested for loop in Python."
   ]
  },
  {
   "cell_type": "code",
   "execution_count": 1,
   "id": "5cff3caa",
   "metadata": {},
   "outputs": [
    {
     "name": "stdout",
     "output_type": "stream",
     "text": [
      "*  \n",
      "* *  \n",
      "* * *  \n",
      "* * * *  \n",
      "* * * * *  \n",
      "* * * *  \n",
      "* * *  \n",
      "* *  \n",
      "*  \n",
      " \n"
     ]
    }
   ],
   "source": [
    "for i in range(0,5):\n",
    "    for j in (0,i+1):\n",
    "        i=i+1  \n",
    "    for k in range(0, i-1):\n",
    "        print(\"*\", end=' ')  \n",
    "    print(\" \")\n",
    "for i in range( i-1,0, -1):  \n",
    "    for j in range(0, i - 1):  \n",
    "        print(\"*\", end=' ')  \n",
    "    print(\" \")  "
   ]
  },
  {
   "cell_type": "markdown",
   "id": "ec36e4fa",
   "metadata": {},
   "source": [
    "# 2. Write a Python program to reverse a word after accepting the input from the user.\n",
    "Input word: ineuron\n",
    "Output: norueni"
   ]
  },
  {
   "cell_type": "code",
   "execution_count": 2,
   "id": "0204ebd5",
   "metadata": {},
   "outputs": [
    {
     "name": "stdout",
     "output_type": "stream",
     "text": [
      "norueni\n"
     ]
    }
   ],
   "source": [
    "txt=\"ineuron\"\n",
    "txt=txt[::-1]\n",
    "print(txt)   "
   ]
  },
  {
   "cell_type": "code",
   "execution_count": 5,
   "id": "f7d1a02e",
   "metadata": {},
   "outputs": [
    {
     "name": "stdout",
     "output_type": "stream",
     "text": [
      " ineuron\n",
      "norueni\n"
     ]
    }
   ],
   "source": [
    "response=input(\" \")\n",
    "response=response[::-1]\n",
    "print(response)   "
   ]
  },
  {
   "cell_type": "code",
   "execution_count": null,
   "id": "f133ab06",
   "metadata": {},
   "outputs": [],
   "source": []
  }
 ],
 "metadata": {
  "kernelspec": {
   "display_name": "Python 3",
   "language": "python",
   "name": "python3"
  },
  "language_info": {
   "codemirror_mode": {
    "name": "ipython",
    "version": 3
   },
   "file_extension": ".py",
   "mimetype": "text/x-python",
   "name": "python",
   "nbconvert_exporter": "python",
   "pygments_lexer": "ipython3",
   "version": "3.8.8"
  }
 },
 "nbformat": 4,
 "nbformat_minor": 5
}
